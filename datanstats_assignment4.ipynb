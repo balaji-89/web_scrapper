{
  "nbformat": 4,
  "nbformat_minor": 0,
  "metadata": {
    "colab": {
      "name": "datanstats_assignment4.ipynb",
      "provenance": []
    },
    "kernelspec": {
      "name": "python3",
      "display_name": "Python 3"
    },
    "language_info": {
      "name": "python"
    }
  },
  "cells": [
    {
      "cell_type": "code",
      "execution_count": 24,
      "metadata": {
        "id": "P4v56hRgYuD1"
      },
      "outputs": [],
      "source": [
        "from bs4 import BeautifulSoup\n",
        "import requests\n",
        "import csv"
      ]
    },
    {
      "cell_type": "code",
      "source": [
        "search_word = input(\"search word in wikipedia\")"
      ],
      "metadata": {
        "colab": {
          "base_uri": "https://localhost:8080/"
        },
        "id": "jkhV-3F1Zg3c",
        "outputId": "caf49fe0-d41d-4bf1-9d9d-77f482de0a3a"
      },
      "execution_count": 25,
      "outputs": [
        {
          "name": "stdout",
          "output_type": "stream",
          "text": [
            "search word in wikipediarajini\n"
          ]
        }
      ]
    },
    {
      "cell_type": "code",
      "source": [
        "def scratch_details(soup):\n",
        "  base_url = 'https://en.wikipedia.org'\n",
        "  urls= [base_url+url['href']  for url in soup.find_all('a',href=True) if url['href'].startswith('/')]\n",
        "  return urls"
      ],
      "metadata": {
        "id": "CaEnjH1BaH05"
      },
      "execution_count": 26,
      "outputs": []
    },
    {
      "cell_type": "code",
      "source": [
        "url = f'https://en.wikipedia.org/wiki/{search_word}'\n",
        "response = requests.get(url)\n",
        "html_page = response.text\n",
        "soup=BeautifulSoup(html_page,'html.parser')\n",
        "urls= scratch_details(soup)\n",
        "print(urls)"
      ],
      "metadata": {
        "colab": {
          "base_uri": "https://localhost:8080/"
        },
        "id": "EKwV-0yCZ4js",
        "outputId": "3b49e4f8-3232-4eda-d9bc-a22e4b202f45"
      },
      "execution_count": 27,
      "outputs": [
        {
          "output_type": "stream",
          "name": "stdout",
          "text": [
            "['https://en.wikipedia.org/wiki/Rajani_(name)', 'https://en.wikipedia.org/wiki/Rajini_School', 'https://en.wikipedia.org/wiki/Rajinikanth', 'https://en.wikipedia.org/wiki/Rajini_(TV_series)', 'https://en.wikipedia.org/w/index.php?title=Rajini&action=edit&section=1', 'https://en.wikipedia.org/wiki/Rajani_(disambiguation)', 'https://en.wikipedia.org/wiki/File:Disambig_gray.svg', 'https://en.wikipedia.org/wiki/Help:Disambiguation', 'https://en.wikipedia.org/wiki/Help:Category', 'https://en.wikipedia.org/wiki/Category:Disambiguation_pages', 'https://en.wikipedia.org/wiki/Category:Disambiguation_pages_with_short_descriptions', 'https://en.wikipedia.org/wiki/Category:Short_description_is_different_from_Wikidata', 'https://en.wikipedia.org/wiki/Category:All_article_disambiguation_pages', 'https://en.wikipedia.org/wiki/Category:All_disambiguation_pages', 'https://en.wikipedia.org/wiki/Special:MyTalk', 'https://en.wikipedia.org/wiki/Special:MyContributions', 'https://en.wikipedia.org/w/index.php?title=Special:CreateAccount&returnto=Rajini', 'https://en.wikipedia.org/w/index.php?title=Special:UserLogin&returnto=Rajini', 'https://en.wikipedia.org/wiki/Rajini', 'https://en.wikipedia.org/wiki/Talk:Rajini', 'https://en.wikipedia.org/wiki/Rajini', 'https://en.wikipedia.org/w/index.php?title=Rajini&action=edit', 'https://en.wikipedia.org/w/index.php?title=Rajini&action=history', 'https://en.wikipedia.org/wiki/Main_Page', 'https://en.wikipedia.org/wiki/Main_Page', 'https://en.wikipedia.org/wiki/Wikipedia:Contents', 'https://en.wikipedia.org/wiki/Portal:Current_events', 'https://en.wikipedia.org/wiki/Special:Random', 'https://en.wikipedia.org/wiki/Wikipedia:About', 'https://en.wikipedia.org//en.wikipedia.org/wiki/Wikipedia:Contact_us', 'https://en.wikipedia.org/wiki/Help:Contents', 'https://en.wikipedia.org/wiki/Help:Introduction', 'https://en.wikipedia.org/wiki/Wikipedia:Community_portal', 'https://en.wikipedia.org/wiki/Special:RecentChanges', 'https://en.wikipedia.org/wiki/Wikipedia:File_Upload_Wizard', 'https://en.wikipedia.org/wiki/Special:WhatLinksHere/Rajini', 'https://en.wikipedia.org/wiki/Special:RecentChangesLinked/Rajini', 'https://en.wikipedia.org/wiki/Wikipedia:File_Upload_Wizard', 'https://en.wikipedia.org/wiki/Special:SpecialPages', 'https://en.wikipedia.org/w/index.php?title=Rajini&oldid=1080513938', 'https://en.wikipedia.org/w/index.php?title=Rajini&action=info', 'https://en.wikipedia.org/w/index.php?title=Special:CiteThisPage&page=Rajini&id=1080513938&wpFormIdentifier=titleform', 'https://en.wikipedia.org/w/index.php?title=Special:DownloadAsPdf&page=Rajini&action=show-download-screen', 'https://en.wikipedia.org/w/index.php?title=Rajini&printable=yes', 'https://en.wikipedia.org//en.wikipedia.org/wiki/Wikipedia:Text_of_Creative_Commons_Attribution-ShareAlike_3.0_Unported_License', 'https://en.wikipedia.org//creativecommons.org/licenses/by-sa/3.0/', 'https://en.wikipedia.org//foundation.wikimedia.org/wiki/Terms_of_Use', 'https://en.wikipedia.org//foundation.wikimedia.org/wiki/Privacy_policy', 'https://en.wikipedia.org//www.wikimediafoundation.org/', 'https://en.wikipedia.org/wiki/Wikipedia:About', 'https://en.wikipedia.org/wiki/Wikipedia:General_disclaimer', 'https://en.wikipedia.org//en.wikipedia.org/wiki/Wikipedia:Contact_us', 'https://en.wikipedia.org//en.m.wikipedia.org/w/index.php?title=Rajini&mobileaction=toggle_view_mobile']\n"
          ]
        }
      ]
    },
    {
      "cell_type": "code",
      "source": [
        "with open(f'{search_word} wikipedia.csv','w') as f:\n",
        "  write = csv.writer(f)\n",
        "  write.writerow(['url'])\n",
        "  for val in urls:\n",
        "    write.writerow([str(val)])\n",
        "\n",
        "  "
      ],
      "metadata": {
        "id": "E5o1UYNedOWf"
      },
      "execution_count": 28,
      "outputs": []
    },
    {
      "cell_type": "code",
      "source": [
        ""
      ],
      "metadata": {
        "id": "pkbXHLLyzvL4"
      },
      "execution_count": 28,
      "outputs": []
    }
  ]
}